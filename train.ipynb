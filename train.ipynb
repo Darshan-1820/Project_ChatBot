{
 "cells": [
  {
   "cell_type": "code",
   "execution_count": 1,
   "id": "c0e67a60",
   "metadata": {},
   "outputs": [],
   "source": [
    "import json\n",
    "import numpy as np\n",
    "from nltk_utils import tokenize, stem, bag_of_words\n",
    "from model import NeuralNet\n"
   ]
  },
  {
   "cell_type": "code",
   "execution_count": 2,
   "id": "2d753caa",
   "metadata": {},
   "outputs": [
    {
     "name": "stdout",
     "output_type": "stream",
     "text": [
      "{'intents': [{'tag': 'greetings', 'patterns': ['Hello', 'Hi', 'Hey', 'Good morning', 'Good afternoon', 'Good evening'], 'responses': ['Hello! How can I assist you today?', 'Hi there! How can I help you?', 'Hey! What can I do for you?', 'Good morning! How can I assist you?', 'Good afternoon! How may I help you?', 'Good evening! What can I do for you?']}, {'tag': 'goodbyes', 'patterns': ['Goodbye', 'Bye', 'See you later', 'Take care', 'Farewell'], 'responses': ['Goodbye! If you have any more questions, feel free to ask.', \"Bye! Don't hesitate to reach out if you need anything else.\", 'See you later! Have a great day!', \"Take care! Let me know if there's anything else I can do for you.\", 'Farewell! If you need further assistance, just let me know.']}, {'tag': 'thanks', 'patterns': ['Thank you', 'Thanks', 'Appreciate it', 'Thanks a lot', 'Many thanks'], 'responses': [\"You're welcome! Happy to help.\", \"You're welcome! If you have more questions, feel free to ask.\", \"No problem! Let me know if there's anything else you need.\", \"You're welcome! If you need further assistance, don't hesitate to reach out.\", \"My pleasure! If there's anything else I can assist you with, just let me know.\"]}, {'tag': 'admission', 'patterns': ['How can I apply for admission?', 'What is the admission process?', 'When are the admission deadlines?', 'Tell me about the admission requirements.', 'Admission procedure'], 'responses': ['To apply for admission, you can visit our website https://www.cuchd.in/ and fill out the online application form.', 'The admission process includes a national level entrance exam CUCET that has been divided into different phases.', 'The admission deadlines vary for different programs. Please check our website for specific dates.', 'To get admitted, you need to meet the eligibility criteria required for different courses, check our website for specific details.', 'For detailed information on the admission procedure, please visit our website.']}, {'tag': 'courses', 'patterns': ['What courses do you offer?', 'Tell me about the available programs.', 'List of courses', 'Which courses are available for undergraduate students?', 'Can you give me information about the MBA program?'], 'responses': ['We offer the following departments:\\nPhysical Education - 2 Years - 39000/- INR\\nMaster of Arts (Liberal Arts) (under IASSM) - 2 Years - 40000/- INR\\nMaster of Business Administration (under IASSM) - 2 Years - 125000/- INR\\nB.Sc - (Computer Science, Statistics and Mathematics) - 3 Years - 34000/- INR\\nB.Sc - (Forensic Science) - 3 Years - 55500/- INR\\nB.Sc - (Hons.) (Medical Lab Technology) - 4 Years - 62000/- INR\\n', 'B.Sc - (Hons.) (Medical Lab Technology) - Lateral Entry - 3 Years - 62000/- INR\\n', 'B.Sc - (Hons.) Mathematics - 3 Years - 39500/- INR\\n', 'B.Sc - (Microbiology ) - 3 Years - 50000/- INR\\n', 'B.Sc - (Nutrition & Dietetics) - 3 Years - 65000/- INR\\n', 'B.Sc - Chemistry (Hons.) - 3 Years - 39500/- INR\\n', 'B.Sc - Medical - 3 Years - 34000/- INR\\n', 'B.Sc - Physics (Hons.) - 3 Years - 39500/- INR\\n', 'Bachelor of Architecture - 5 Years - 105000/- INR\\n', 'Bachelor of Arts (Hons) Liberal Arts - 4 Years - 50000/- INR\\n', 'Bachelor of Arts + Bachelor of Education - 4 Years - 43000/- INR\\n', 'Bachelor of Arts + Bachelor of Law (BA + LLB (Hons)) - Integrated - 5 Years - 87000/- INR\\n', 'Bachelor of Arts - Economics - 3 Years - 47000/- INR\\n', 'Bachelor of Arts - Journalism and Mass Communication - 3 Years - 67500/- INR\\n', 'Bachelor of Arts - Psychology (Hons.) - 3 Years - 50000/- INR\\n', 'Bachelor of Commerce (B.Com) - Hons ITP (Study in Australia) - 3 Years - 67500/- INR\\n', 'Bachelor of Commerce (Hons) General/ Auditing & Taxation/ Advanced Cost & Management Accounting/E-Commerce) - 3 Years - 67500/- INR\\n', 'Bachelor of Commerce (Hons.) in association with Association of Chartered Certified Accountants (ACCA) - 3 Years - 92500/- INR\\n', 'Bachelor of Commerce (In association with Association of Chartered Certified Accountants) - 3 Years - 92500/- INR\\n', 'Bachelor of Commerce + Bachelor of Law (B.Com. + LLB(Hons)) - Integrated - 5 Years - 81000/- INR\\n', 'Bachelor of Computer Applications - 3 Years - 65500/- INR\\n', 'Bachelor of Computer Applications (User Interface/ User Experience Design) - 3 Years - 68500/- INR\\n', 'Bachelor of Computer Applications - Augmented Reality and Virtual Reality - 3 Years - 68500/- INR\\n', 'Bachelor of Computer Applications - ITP (Study in USA) - 3 Years - 65500/- INR\\n', 'Bachelor of Design (Fashion) - 4 Years - 86500/- INR\\n', 'Bachelor of Design (Industrial) - 4 Years - 86500/- INR\\n', 'Bachelor of Design (Interior) - 4 Years - 86500/- INR\\n', 'Bachelor of Engineering (Aerospace Engineering) - 4 Years - 117000/- INR\\n', 'Bachelor of Engineering (Artificial Intelligence and Data Science) - 4 Years - 160000/- INR\\n', 'Bachelor of Engineering (Biotechnology) - 4 Years - 98000/- INR\\n', 'Bachelor of Engineering (Biotechnology)- Lateral Entry - 3 Years - 98000/- INR\\n', 'Bachelor of Engineering (Computer Science & Engineering) - Lateral Entry - 3 Years - 117000/- INR\\n', 'Bachelor of Engineering (Computer Science and Engineering) (Computer Science and Business Systems) (In association with TCS) - 4 Years - 117000/- INR\\n', 'Bachelor of Engineering (Computer Science and Engineering) (Hons.) (Big Data and Analytics) (Lateral Entry) (In association with IBM) - 3 Years - 136500/- INR\\n', 'Bachelor of Engineering (Computer Science and Engineering) (Hons.) (with Specialization in Artificial Intelligence and Machine Learning) (In association with IBM) - 4 Years - 145500/- INR\\n', 'Bachelor of Engineering (Computer Science and Engineering) (Hons.) (with specialization in Artificial Intelligence and Machine Learning) (In association with IBM) (Lateral Entry) - 3 Years - 136500/- INR\\n', 'Bachelor of Engineering (Computer Science and Engineering) (Hons.) (with Specialization in Internet of Things) (In association with IBM) - 4 Years - 136500/- INR\\n', 'Bachelor of Engineering (Computer Science and Engineering) (Hons.) (with Specialization in Internet of Things) (In association with IBM) (Lateral Entry) - 3 Years - 127500/- INR\\n', 'Bachelor of Engineering (Industrial Internet of Things) - 4 Years - 150000/- INR\\n', 'Bachelor of Engineering (Robotics and Automation) - 4 Years - 125000/- INR\\n', 'Bachelor of Engineering + Master of Engineering (Computer Science and Engineering) (Hons.) (Cloud Computing) (In collaboration with Virtusa) (Integrated) - 5 Years - 136500/- INR\\n', 'Bachelor of Engineering - (Aerospace Engg.) - Lateral Entry - 3 Years - 117000/- INR\\n', 'Bachelor of Engineering - (Automobile Engineering)- Lateral Entry - 3 Years - 98000/- INR\\n', 'Bachelor of Engineering - (Civil Engineering)-Lateral Entry - 3 Years - 98000/- INR\\n', 'Bachelor of Engineering - Computer Science & Engineering - 4 Years - 120000/- INR\\n', 'Bachelor of Engineering - Computer Science and Engineering with specialization in Blockchain Technology - 4 Years - 136500/- INR\\n', 'Bachelor of Engineering - Computer Science and Engineering with specialization in DevOps - 4 Years - 136500/- INR\\n', 'Bachelor of Engineering in Computer Science and Engineering (Hons.) IBM - BIG DATA AND ANALYTICS - 4 Years - 136500/- INR\\n', 'Bachelor of Engineering in Computer Science and Engineering (Hons.) IBM - BIG DATA AND ANALYTICS â€“ ITP - 4 Years - 136500/- INR\\n', 'Bachelor of Engineering in Computer Science and Engineering (Hons.) IBM - INFORMATION SECURITY - 4 Years - 136500/- INR\\n', 'Bachelor of Engineering in Computer Science and Engineering (Hons.) IBM - INFORMATION SECURITY â€“ ITP - 4 Years - 136500/- INR\\n', 'Bachelor of Engineering in Computer Science and Engineering (Hons.) IBM- Information Security -Lateral Entry - 3 Years - 136500/- INR\\n', 'Bachelor of Engineering in Computer Science and Engineering (Hons.) IBM-CLOUD COMPUTING - 4 Years - 136500/- INR\\n', 'Bachelor of Engineering in Computer Science and Engineering (Hons.) IBM-Cloud Computing -Lateral Entry - 3 Years - 136500/- INR\\n', 'Bachelor of Engineering â€“ (Mechanical Engineering)(Lateral Entry) â€“ ITP (Study in USA) - 3 Years - 98000/- INR\\n', '\\n', 'For more information about these courses and their cutoff, placements, and admissions criteria, please visit our website: https://www.cuchd.in/admissions/course-fee.php']}, {'tag': 'fees', 'patterns': ['How much is the tuition fee?', 'What are the fees for the Engineering program?', 'What is the fees for CSE', 'Can you tell me about the financial aid options?', 'Are there any scholarships available?'], 'responses': ['The tuition fee varies depending on the program you choose. Please refer to our website for detailed fee information. For CSE, the annual tuition fee is 120000/- INR. We offer various financial aid options, including scholarships, and student loans. You can find more information on our website. Yes, we do have scholarships available for eligible students. You can avail the scholarships by appearing in the CUCET exam.']}, {'tag': 'contact', 'patterns': ['How can I contact the college?', 'Can you give me the contact number?', 'I need to talk to someone from the admissions office.'], 'responses': ['You can contact the college through phone- +91-160-3044444, +91-8067947100(24*7 Helpline No.), email-info@cumail.in, or by visiting our campus.', 'You can reach us at +91-8067947100(24*7 Helpline No.).', 'Sure! You can contact the admissions office at [+91-9915999223,+91-8146651550, email - admissions@cumail.in]. They will be happy to assist you.']}, {'tag': 'items', 'patterns': ['What facilities are available on campus?', 'Tell me about the sports facilities.', 'Do you have a library on campus?', 'What are the extracurricular activities offered?'], 'responses': ['Our campus offers a range of facilities, including sports facilities, libraries, Youth Festivals & Summits, Culturally Diverse Convocations, Student-activities, Technology integration and many more', 'We have state-of-the-art sports facilities, dedicated sports alumni, various sport events and sports fields.', 'Yes, we have a well-stocked library in each block on campus with a vast collection of books and research materials.', 'We offer a variety of extracurricular activities, such as clubs, student organizations, and cultural events.']}, {'tag': 'odd_semester_calendar', 'patterns': ['Tell me about the odd semester calendar.', 'What are the important dates this semester?', 'When will the registration for odd semester start?', 'When will the odd semester end?'], 'responses': [\"The odd semester calendar for the current academic year (2023-2024) is as follows: 1. Start of Registration for ODD Semester: 19th July 2023 to 31st July 2023, 2. Start of Odd Semester (For 2nd Year onwards Students): 1st August 2023, 3. Orientation and Induction for 2023 intake (Batch-I): 7th August 2023 to 11th August 2023, 4. Start of Odd Semester (For Batch - I, 2023 intake): 16th August 2023, 5. Ist Hourly Test (2nd Year Onwards): 4th September 2023 to 7th September 2023, 6. TechInvent 2023: 15th September 2023 to 16th September 2023, 7. Ist Hourly Test (For Batch - I, 2023 intake): 18th September 2023 to 21st September 2023, 8. Start of Odd Semester (For Batch - II, 2023 intake): 18th September 2023, 9. Fresher's Party (Razzmatazz) 2023: 22nd September 2023, 10. Practical MST (All Batches): 3rd October 2023 to 9th October 2023, 11. IInd Hourly Test (2nd Year Onwards): 10th October 2023 to 13th October 2023, 12. IInd Hourly Test (For Batch - I and II, 2023 intake): 19th October 2023 to 23rd October 2023, 13. Abhivyakti National Literary Fest 2023: 20th October 2023 to 21st October 2023, 14. International Folklore Festival 2023: 2nd November 2023 to 4th November 2023, 15. Last Teaching Day (All Batches): 22nd November 2023, 16. End Semester External Practical Exams (Regular & Reappear): 23rd November 2023 to 30th November 2023, 17. End-term Evaluation for Projects (by evaluation panel): 23rd November 2023 to 30th November 2023, 18. Start of End Semester Theory Examination (Regular & Reappear): 1st December 2023 to 23rd December 2023, 19. Start of Winning BootCamp: 18th December 2023 to 13th January 2024, 20. Start of Registration for Even Semester (Except All Branches - 3rd Year Engineering, and Batches from MBA, MCA involved in Winning BootCamp): 21st December 2023 to 7th January 2024, 21. ODD Semester Ends: 23rd December 2023\"]}, {'tag': 'semester_holidays', 'patterns': ['List of holidays in this semester'], 'responses': ['Here is the list of holidays during this semester:\\n 1. Republic Day: 26th January (Thursday), 2. Maha Shivaratri: 18th February (Saturday), 3. Holi: 8th March (Wednesday), 4. Dr. B.R. Ambedkar Jayanti: 14th April (Friday), 5. Bakrid (Eid-ul-Zuha): 29th June (Thursday), 6. Independence Day: 15th August (Tuesday), 7. Gandhi Jayanti: 2nd October (Monday), 8. Dussehra: 24th October (Tuesday), 9. Maharishi Valmiki Jayanti: 28th October (Saturday), 10. Diwali*: 12th November (Sunday), 11. Gurpurab, Birthday - Shri Guru Nanak Dev Ji: 27th November (Monday), 12. Christmas: 25th December (Monday)']}, {'tag': 'sgpa_calculator', 'patterns': ['Can you calculate SGPA?', 'How to calculate SGPA?', 'SGPA calculator', 'Marking scheme', 'How to calculate marks', 'How to calculate grades', 'Grading scheme'], 'responses': [\"Here are the approximate grades corresponding to different SGPA ranges:\\n\\n SGPA 95-100: A SGPA 85-94: A SGPA 75-84: B SGPA 65-74: B SGPA 55-64: C\\n\\n You can use the SGPA calculator to calculate your SGPA for the current semester. Here's the link: https://adarsh9306.github.io/sgpa_4/\"]}, {'tag': 'subjects', 'patterns': ['list of subjects', 'subjects and codes', 'theory subjects', 'practical subjects', 'subjects with credits'], 'responses': [\"Here are the subjects along with their subject codes, type, and credits: 1. Design and Analysis of Algorithms with Lab (21CSH-311) - Theory & Practical, 5 credits. 2. Operating Systems (21CST-313) - Theory, 3 credits. 3. Advance Programming Lab-1 (21CSP-314) - Practical, 2 credits. 4. SOFT COMPUTING (Professional Elective-I) (21CST-332) - Theory & Practical, 2 credits. 5. STATISTICAL INFERENCE USING R (Professional Elective-I) (21CST-331) - Theory & Practical, 2 credits. 6. Aptitude (21TDY-302) - Practical, 2 credits. 7. Project-II (21CSR-318) - Practical, 1 credit. 8. Industrial Summer Training (21CSX-322) - Practical, 4 credits. 9. Soft Skills (21TDY-301) - Practical, 2 credits. 10. Fundamentals of Image Processing (21CSY-313) - Theory, 3 credits. For more information, you can refer to the college's official website or course catalog at 'https://www.cuchd.in/'\"]}, {'tag': 'DESIGN AND ANALYSIS OF ALGORITHMS', 'patterns': ['books for Design and Analysis of Algorithms with Lab', 'recommended textbooks for Design and Analysis of Algorithms', 'textbooks for Design and Analysis of Algorithms with Lab', 'best books for Design and Analysis of Algorithms', 'preferred books for 21CSH-311'], 'responses': [\"Here are the preferred textbooks for Design and Analysis of Algorithms with Lab (Subject Code: 21CSH-311): 1. Introduction to Algorithms by Cormen, Leiserson, Rivest, Stein, Prentice Hall of India, 3rd edition, 2012. 2. Fundamentals of Computer Algorithms by Horowitz, Sahni, and Rajasekaran, University Press (India), 2nd edition. 3. Data Structures using C and C++ by Tanenbaum, Augenstein, & Langsam, Prentice Hall of India. 4. Fundamentals of Algorithms by Brassard, Bratley, Prentice Hall of India. 5. The Art of Computer Programming, Volume 1: Fundamental Algorithms by Knuth, Addison-Wesley, Third Edition. 6. Data Structures, Schaum's Outline Series by Lipschutz, Tata McGraw-Hill. 7. Data Structures & Program Design by Kruse, Prentice Hall of India. 8. The Design and Analysis of Computer Algorithms by Aho, Hopcroft, and Ullman, Pearson Education India. Please note that these books are recommended, and you can refer to your course instructor for further guidance.\"]}, {'tag': 'OPERATING SYSTEMS', 'patterns': ['books for Operating Systems', 'recommended textbooks for Operating Systems', 'textbooks for 21CST-313', 'best books for 21CST-313', 'preferred books for Operating Systems'], 'responses': ['Here are the preferred textbooks for Operating Systems (Subject Code: 21CST-313): 1. Operating System Concepts by Galvin and Silberchatz, Addison Wesley, 8th Edition. 2. Operating Systems by Flynn, Cengage Learning. 3. Operating System: A Concept-Based Approach by Dhamdhere, Tata Mc-Graw Hill. 4. Operating System by Madnick, Stuart E., and Donovan, John J., McGrawHill. 5. Operating Systems by Stalling, William, Pearson Education, Fifth Edition. Please note that these books are recommended, and you can refer to your course instructor for further guidance.']}, {'tag': 'ADVANCE PROGRAMMING LAB', 'patterns': ['books for Advance Programming Lab-1', 'recommended textbooks for Advance Programming Lab', 'textbooks for 21CSP-314', 'best books for 21CSP-314', 'preferred books for Advance Programming Lab-1'], 'responses': ['Here are the preferred textbooks for Advance Programming Lab-1 (Subject Code: 21CSP-314): 1. Refer to the provided links for various problems and exercises. Please note that the course materials will be provided by your instructor for this lab.']}, {'tag': 'SOFT COMPUTING', 'patterns': ['books for SOFT COMPUTING (Professional Elective-I)', 'recommended textbooks for Soft Computing', 'textbooks for 21CST-332', 'best books for 21CST-332', 'preferred books for Soft Computing'], 'responses': ['Here are the preferred textbooks for SOFT COMPUTING (Professional Elective-I) (Subject Code: 21CST-332): 1. Principle of Soft Computing by S.N. Shivanandam, Wiley. ISBN13: 9788126527410 (2011). 2. Neuro-Fuzzy and Soft Computing by Jyh-Shing Roger Jang, Chuen-Tsai Sun, Eiji Mizutani, Prentice Hall of India, 2003. 3. Fuzzy Sets and Fuzzy Logic-Theory and Applications by George J. Klir and Bo Yuan, Prentice Hall, 1995. 4. Neural Networks Algorithms, Applications, and Programming Techniques by James A. Freeman and David M. Skapura, Pearson Edn., 2003. 5. An Introduction to Genetic Algorithm by Mitchell Melanie, Prentice Hall, 1998. Please note that these books are recommended, and you can refer to your course instructor for further guidance.']}, {'tag': 'STATISTICAL INFERENCE USING R', 'patterns': ['books for STATISTICAL INFERENCE USING R (Professional Elective-I)', 'recommended textbooks for Statistical Inference Using R', 'textbooks for 21CST-331', 'best books for 21CST-331', 'preferred books for Statistical Inference Using R'], 'responses': [\"Here are the preferred textbooks for STATISTICAL INFERENCE USING R (Professional Elective-I) (Subject Code: 21CST-331): 1. Introduction to Probability by Joseph K Blitzstein and Jessica Hwang, CRC Press. 2. Introduction to Mathematical Statistics by Robert V. Hogg, Joseph W. McKean, and Allen T. Craig, Pearson Education. 3. The Art of R Programming: A Tour of Statistical Software Design by Norman Matloff, No Starch Press. 4. R for Data Science by Hadley Wickham, Garrett Grolemund, O'Reilly. 5. An Introduction to Statistical Learning: with Applications in R by Gareth James, Daniela Witten, Trevor Hastie, and Robert Tibshirani, Springer. Please note that these books are recommended, and you can refer to your course instructor for further guidance.\"]}, {'tag': 'Fundamentals of Image Processing', 'patterns': ['books for Fundamentals of Image Processing', 'recommended textbooks for 21CSY-313', 'textbooks for 21CSY-313', 'best books for Fundamentals of Image Processing', 'preferred books for Image Processing'], 'responses': ['Here are the preferred textbooks for Fundamentals of Image Processing (Subject Code: 21CSY-313):\\n\\n1. Digital Image Processing by Rafael C. Gonzalez and Richard E. Woods, Pearson Edition, Latest Edition.\\n2. Digital Image Processing Algorithms by I. Pitas, Prentice Hall, Latest Edition.\\n3. Fundamentals of Digital Image processing by A. K. Jain, Prentice Hall of India Pvt. Ltd., Latest Edition.\\n4. Digital image processing by K. Castlemann, Prentice Hall of India Pvt. Ltd., Latest Edition.\\n5. Fundamentals of Pattern recognition by P. Monique and M. Dekker, Latest Edition.\\n\\nPlease note that these books are recommended, and you can refer to your course instructor for further guidance.']}, {'tag': 'APTITUDE', 'patterns': ['books for Aptitude', 'recommended textbooks for 21TDY-302', 'textbooks for 21TDY-302', 'best books for Aptitude', 'preferred books for Aptitude'], 'responses': ['Here are the preferred textbooks for Aptitude (Subject Code: 21TDY-302):\\n\\n1. CU-DCDP - Aptitude Book- TDY-352.\\n2. CU-DCPD - Logical Reasoning Ability for Campus placements.\\n3. CU-DCPD - Interpreting Data for Success.\\n4. CU-DCPD - Data Sufficiency.\\n\\nPlease note that these books are recommended, and you can refer to your course instructor for further guidance.']}, {'tag': 'PROJECT-II', 'patterns': ['books for Project-II', 'recommended textbooks for 21CSR-318', 'textbooks for 21CSR-318', 'best books for Project-II', 'preferred books for Project-II'], 'responses': ['Here are the preferred textbooks for Project-II (Subject Code: 21CSR-318):\\n\\n1. Readings and references are project-specific, and will be determined by project groups, with the approval of the instructor.\\n\\nPlease note that the readings and references for this project will be provided by your instructor.']}, {'tag': 'INDUSTRIAL SUMMER TRAINING', 'patterns': ['books for Industrial Summer Training', 'recommended textbooks for 21CSX-322', 'textbooks for 21CSX-322', 'best books for Industrial Summer Training', 'preferred books for Industrial Summer Training'], 'responses': ['Here are the preferred textbooks for Industrial Summer Training (Subject Code: 21CSX-322):\\n\\n1. Refer to the provided links for various problems and exercises.\\n\\nPlease note that the course materials for this training will be provided by your instructor.']}, {'tag': 'SOFT SKILLS', 'patterns': ['books for Soft Skills', 'recommended textbooks for 21TDY-301', 'textbooks for 21TDY-301', 'best books for Soft Skills', 'preferred books for Soft Skills'], 'responses': ['Here are the preferred textbooks for Soft Skills (Subject Code: 21TDY-301):\\n\\n1. CU-DCDP Verbal Ability Book- Comprehending Verbal Ability for Success.\\n2. Edward de. Bono., Serious Creativity, Paperback.\\n3. James Webb Young, A Technique for Producing Ideas, Mc. Graw Hill.\\n4. Rashmi Bansal, Connecting the Dots, Westland Limited.\\n\\nPlease note that these books are recommended, and you can refer to your course instructor for further guidance.']}, {'tag': 'college_details', 'patterns': ['Tell me about Chandigarh University', 'What are the details of Chandigarh University?', 'Give me information about the college Chandigarh University', 'College details of Chandigarh University'], 'responses': ['Chandigarh University is a well-known educational institution located in Chandigarh, India. It is a prestigious university that offers a wide range of undergraduate, postgraduate, and doctoral programs in various fields. The university is dedicated to providing quality education and fostering academic excellence.\\n\\nChancellor: Satnam Singh Sandhu\\nPro-Chancellor: Prof. (Dr.) RS Bawa\\nVice-Chancellor: Manpreet Singh Manna']}, {'tag': 'university_officials', 'patterns': ['Who is the Vice-Chancellor of Chandigarh University?', 'Tell me about the Pro Vice-Chancellors of Chandigarh University', 'Give me information about the Chancellor and Pro-Chancellor of Chandigarh University', 'University officials of Chandigarh University'], 'responses': [\"Chandigarh University is led by a distinguished team of officials who play key roles in the university's administration and academic affairs:\\n\\nChancellor: Satnam Singh Sandhu\\nPro-Chancellor: Prof. (Dr.) RS Bawa\\nPro-Chancellor: Prof. (Dr.) Arun Patil\\nVice-Chancellor: Manpreet Singh Manna\\nPro Vice-Chancellor: Devinder Singh\\nPro Vice-Chancellor: Dr. Sanjeet Singh\\nPro Vice-Chancellor - Research, Ranking & Accreditations\"]}]}\n"
     ]
    }
   ],
   "source": [
    "with open('intents.json', 'r') as f:\n",
    "    intents = json.load(f)\n",
    "    \n",
    "print(intents)"
   ]
  },
  {
   "cell_type": "code",
   "execution_count": 3,
   "id": "16061651",
   "metadata": {},
   "outputs": [],
   "source": [
    "all_words = []   # an empty list\n",
    "\n",
    "tags = [] \n",
    "xy = []\n",
    "\n"
   ]
  },
  {
   "cell_type": "code",
   "execution_count": 4,
   "id": "e191992e",
   "metadata": {},
   "outputs": [
    {
     "name": "stdout",
     "output_type": "stream",
     "text": [
      "['Hello', 'Hi', 'Hey', 'Good', 'morning', 'Good', 'afternoon', 'Good', 'evening', 'Goodbye', 'Bye', 'See', 'you', 'later', 'Take', 'care', 'Farewell', 'Thank', 'you', 'Thanks', 'Appreciate', 'it', 'Thanks', 'a', 'lot', 'Many', 'thanks', 'How', 'can', 'I', 'apply', 'for', 'admission', '?', 'What', 'is', 'the', 'admission', 'process', '?', 'When', 'are', 'the', 'admission', 'deadlines', '?', 'Tell', 'me', 'about', 'the', 'admission', 'requirements', '.', 'Admission', 'procedure', 'What', 'courses', 'do', 'you', 'offer', '?', 'Tell', 'me', 'about', 'the', 'available', 'programs', '.', 'List', 'of', 'courses', 'Which', 'courses', 'are', 'available', 'for', 'undergraduate', 'students', '?', 'Can', 'you', 'give', 'me', 'information', 'about', 'the', 'MBA', 'program', '?', 'How', 'much', 'is', 'the', 'tuition', 'fee', '?', 'What', 'are', 'the', 'fees', 'for', 'the', 'Engineering', 'program', '?', 'What', 'is', 'the', 'fees', 'for', 'CSE', 'Can', 'you', 'tell', 'me', 'about', 'the', 'financial', 'aid', 'options', '?', 'Are', 'there', 'any', 'scholarships', 'available', '?', 'How', 'can', 'I', 'contact', 'the', 'college', '?', 'Can', 'you', 'give', 'me', 'the', 'contact', 'number', '?', 'I', 'need', 'to', 'talk', 'to', 'someone', 'from', 'the', 'admissions', 'office', '.', 'What', 'facilities', 'are', 'available', 'on', 'campus', '?', 'Tell', 'me', 'about', 'the', 'sports', 'facilities', '.', 'Do', 'you', 'have', 'a', 'library', 'on', 'campus', '?', 'What', 'are', 'the', 'extracurricular', 'activities', 'offered', '?', 'Tell', 'me', 'about', 'the', 'odd', 'semester', 'calendar', '.', 'What', 'are', 'the', 'important', 'dates', 'this', 'semester', '?', 'When', 'will', 'the', 'registration', 'for', 'odd', 'semester', 'start', '?', 'When', 'will', 'the', 'odd', 'semester', 'end', '?', 'List', 'of', 'holidays', 'in', 'this', 'semester', 'Can', 'you', 'calculate', 'SGPA', '?', 'How', 'to', 'calculate', 'SGPA', '?', 'SGPA', 'calculator', 'Marking', 'scheme', 'How', 'to', 'calculate', 'marks', 'How', 'to', 'calculate', 'grades', 'Grading', 'scheme', 'list', 'of', 'subjects', 'subjects', 'and', 'codes', 'theory', 'subjects', 'practical', 'subjects', 'subjects', 'with', 'credits', 'books', 'for', 'Design', 'and', 'Analysis', 'of', 'Algorithms', 'with', 'Lab', 'recommended', 'textbooks', 'for', 'Design', 'and', 'Analysis', 'of', 'Algorithms', 'textbooks', 'for', 'Design', 'and', 'Analysis', 'of', 'Algorithms', 'with', 'Lab', 'best', 'books', 'for', 'Design', 'and', 'Analysis', 'of', 'Algorithms', 'preferred', 'books', 'for', '21CSH-311', 'books', 'for', 'Operating', 'Systems', 'recommended', 'textbooks', 'for', 'Operating', 'Systems', 'textbooks', 'for', '21CST-313', 'best', 'books', 'for', '21CST-313', 'preferred', 'books', 'for', 'Operating', 'Systems', 'books', 'for', 'Advance', 'Programming', 'Lab-1', 'recommended', 'textbooks', 'for', 'Advance', 'Programming', 'Lab', 'textbooks', 'for', '21CSP-314', 'best', 'books', 'for', '21CSP-314', 'preferred', 'books', 'for', 'Advance', 'Programming', 'Lab-1', 'books', 'for', 'SOFT', 'COMPUTING', '(', 'Professional', 'Elective-I', ')', 'recommended', 'textbooks', 'for', 'Soft', 'Computing', 'textbooks', 'for', '21CST-332', 'best', 'books', 'for', '21CST-332', 'preferred', 'books', 'for', 'Soft', 'Computing', 'books', 'for', 'STATISTICAL', 'INFERENCE', 'USING', 'R', '(', 'Professional', 'Elective-I', ')', 'recommended', 'textbooks', 'for', 'Statistical', 'Inference', 'Using', 'R', 'textbooks', 'for', '21CST-331', 'best', 'books', 'for', '21CST-331', 'preferred', 'books', 'for', 'Statistical', 'Inference', 'Using', 'R', 'books', 'for', 'Fundamentals', 'of', 'Image', 'Processing', 'recommended', 'textbooks', 'for', '21CSY-313', 'textbooks', 'for', '21CSY-313', 'best', 'books', 'for', 'Fundamentals', 'of', 'Image', 'Processing', 'preferred', 'books', 'for', 'Image', 'Processing', 'books', 'for', 'Aptitude', 'recommended', 'textbooks', 'for', '21TDY-302', 'textbooks', 'for', '21TDY-302', 'best', 'books', 'for', 'Aptitude', 'preferred', 'books', 'for', 'Aptitude', 'books', 'for', 'Project-II', 'recommended', 'textbooks', 'for', '21CSR-318', 'textbooks', 'for', '21CSR-318', 'best', 'books', 'for', 'Project-II', 'preferred', 'books', 'for', 'Project-II', 'books', 'for', 'Industrial', 'Summer', 'Training', 'recommended', 'textbooks', 'for', '21CSX-322', 'textbooks', 'for', '21CSX-322', 'best', 'books', 'for', 'Industrial', 'Summer', 'Training', 'preferred', 'books', 'for', 'Industrial', 'Summer', 'Training', 'books', 'for', 'Soft', 'Skills', 'recommended', 'textbooks', 'for', '21TDY-301', 'textbooks', 'for', '21TDY-301', 'best', 'books', 'for', 'Soft', 'Skills', 'preferred', 'books', 'for', 'Soft', 'Skills', 'Tell', 'me', 'about', 'Chandigarh', 'University', 'What', 'are', 'the', 'details', 'of', 'Chandigarh', 'University', '?', 'Give', 'me', 'information', 'about', 'the', 'college', 'Chandigarh', 'University', 'College', 'details', 'of', 'Chandigarh', 'University', 'Who', 'is', 'the', 'Vice-Chancellor', 'of', 'Chandigarh', 'University', '?', 'Tell', 'me', 'about', 'the', 'Pro', 'Vice-Chancellors', 'of', 'Chandigarh', 'University', 'Give', 'me', 'information', 'about', 'the', 'Chancellor', 'and', 'Pro-Chancellor', 'of', 'Chandigarh', 'University', 'University', 'officials', 'of', 'Chandigarh', 'University']\n"
     ]
    }
   ],
   "source": [
    "for intent in intents['intents']:\n",
    "    tag = intent['tag']\n",
    "    tags.append(tag)\n",
    "    for pattern in intent['patterns']:\n",
    "        w = tokenize(pattern)\n",
    "        all_words.extend(w)\n",
    "        xy.append((w, tag))\n",
    "\n",
    "\n",
    "print(all_words)"
   ]
  },
  {
   "cell_type": "code",
   "execution_count": 5,
   "id": "963cf892",
   "metadata": {},
   "outputs": [
    {
     "name": "stdout",
     "output_type": "stream",
     "text": [
      "['hello', 'hi', 'hey', 'good', 'morn', 'good', 'afternoon', 'good', 'even', 'goodby', 'bye', 'see', 'you', 'later', 'take', 'care', 'farewel', 'thank', 'you', 'thank', 'appreci', 'it', 'thank', 'a', 'lot', 'mani', 'thank', 'how', 'can', 'i', 'appli', 'for', 'admiss', 'what', 'is', 'the', 'admiss', 'process', 'when', 'are', 'the', 'admiss', 'deadlin', 'tell', 'me', 'about', 'the', 'admiss', 'requir', 'admiss', 'procedur', 'what', 'cours', 'do', 'you', 'offer', 'tell', 'me', 'about', 'the', 'avail', 'program', 'list', 'of', 'cours', 'which', 'cours', 'are', 'avail', 'for', 'undergradu', 'student', 'can', 'you', 'give', 'me', 'inform', 'about', 'the', 'mba', 'program', 'how', 'much', 'is', 'the', 'tuition', 'fee', 'what', 'are', 'the', 'fee', 'for', 'the', 'engin', 'program', 'what', 'is', 'the', 'fee', 'for', 'cse', 'can', 'you', 'tell', 'me', 'about', 'the', 'financi', 'aid', 'option', 'are', 'there', 'ani', 'scholarship', 'avail', 'how', 'can', 'i', 'contact', 'the', 'colleg', 'can', 'you', 'give', 'me', 'the', 'contact', 'number', 'i', 'need', 'to', 'talk', 'to', 'someon', 'from', 'the', 'admiss', 'offic', 'what', 'facil', 'are', 'avail', 'on', 'campu', 'tell', 'me', 'about', 'the', 'sport', 'facil', 'do', 'you', 'have', 'a', 'librari', 'on', 'campu', 'what', 'are', 'the', 'extracurricular', 'activ', 'offer', 'tell', 'me', 'about', 'the', 'odd', 'semest', 'calendar', 'what', 'are', 'the', 'import', 'date', 'thi', 'semest', 'when', 'will', 'the', 'registr', 'for', 'odd', 'semest', 'start', 'when', 'will', 'the', 'odd', 'semest', 'end', 'list', 'of', 'holiday', 'in', 'thi', 'semest', 'can', 'you', 'calcul', 'sgpa', 'how', 'to', 'calcul', 'sgpa', 'sgpa', 'calcul', 'mark', 'scheme', 'how', 'to', 'calcul', 'mark', 'how', 'to', 'calcul', 'grade', 'grade', 'scheme', 'list', 'of', 'subject', 'subject', 'and', 'code', 'theori', 'subject', 'practic', 'subject', 'subject', 'with', 'credit', 'book', 'for', 'design', 'and', 'analysi', 'of', 'algorithm', 'with', 'lab', 'recommend', 'textbook', 'for', 'design', 'and', 'analysi', 'of', 'algorithm', 'textbook', 'for', 'design', 'and', 'analysi', 'of', 'algorithm', 'with', 'lab', 'best', 'book', 'for', 'design', 'and', 'analysi', 'of', 'algorithm', 'prefer', 'book', 'for', '21csh-311', 'book', 'for', 'oper', 'system', 'recommend', 'textbook', 'for', 'oper', 'system', 'textbook', 'for', '21cst-313', 'best', 'book', 'for', '21cst-313', 'prefer', 'book', 'for', 'oper', 'system', 'book', 'for', 'advanc', 'program', 'lab-1', 'recommend', 'textbook', 'for', 'advanc', 'program', 'lab', 'textbook', 'for', '21csp-314', 'best', 'book', 'for', '21csp-314', 'prefer', 'book', 'for', 'advanc', 'program', 'lab-1', 'book', 'for', 'soft', 'comput', '(', 'profession', 'elective-i', ')', 'recommend', 'textbook', 'for', 'soft', 'comput', 'textbook', 'for', '21cst-332', 'best', 'book', 'for', '21cst-332', 'prefer', 'book', 'for', 'soft', 'comput', 'book', 'for', 'statist', 'infer', 'use', 'r', '(', 'profession', 'elective-i', ')', 'recommend', 'textbook', 'for', 'statist', 'infer', 'use', 'r', 'textbook', 'for', '21cst-331', 'best', 'book', 'for', '21cst-331', 'prefer', 'book', 'for', 'statist', 'infer', 'use', 'r', 'book', 'for', 'fundament', 'of', 'imag', 'process', 'recommend', 'textbook', 'for', '21csy-313', 'textbook', 'for', '21csy-313', 'best', 'book', 'for', 'fundament', 'of', 'imag', 'process', 'prefer', 'book', 'for', 'imag', 'process', 'book', 'for', 'aptitud', 'recommend', 'textbook', 'for', '21tdy-302', 'textbook', 'for', '21tdy-302', 'best', 'book', 'for', 'aptitud', 'prefer', 'book', 'for', 'aptitud', 'book', 'for', 'project-ii', 'recommend', 'textbook', 'for', '21csr-318', 'textbook', 'for', '21csr-318', 'best', 'book', 'for', 'project-ii', 'prefer', 'book', 'for', 'project-ii', 'book', 'for', 'industri', 'summer', 'train', 'recommend', 'textbook', 'for', '21csx-322', 'textbook', 'for', '21csx-322', 'best', 'book', 'for', 'industri', 'summer', 'train', 'prefer', 'book', 'for', 'industri', 'summer', 'train', 'book', 'for', 'soft', 'skill', 'recommend', 'textbook', 'for', '21tdy-301', 'textbook', 'for', '21tdy-301', 'best', 'book', 'for', 'soft', 'skill', 'prefer', 'book', 'for', 'soft', 'skill', 'tell', 'me', 'about', 'chandigarh', 'univers', 'what', 'are', 'the', 'detail', 'of', 'chandigarh', 'univers', 'give', 'me', 'inform', 'about', 'the', 'colleg', 'chandigarh', 'univers', 'colleg', 'detail', 'of', 'chandigarh', 'univers', 'who', 'is', 'the', 'vice-chancellor', 'of', 'chandigarh', 'univers', 'tell', 'me', 'about', 'the', 'pro', 'vice-chancellor', 'of', 'chandigarh', 'univers', 'give', 'me', 'inform', 'about', 'the', 'chancellor', 'and', 'pro-chancellor', 'of', 'chandigarh', 'univers', 'univers', 'offici', 'of', 'chandigarh', 'univers']\n"
     ]
    }
   ],
   "source": [
    "ignore_words = ['?', '!', '.', ',']\n",
    "\n",
    "all_words = [stem(w) for w in all_words if w not in ignore_words]\n",
    "\n",
    "print(all_words)"
   ]
  },
  {
   "cell_type": "code",
   "execution_count": 6,
   "id": "90459202",
   "metadata": {},
   "outputs": [
    {
     "name": "stdout",
     "output_type": "stream",
     "text": [
      "['(', ')', '21csh-311', '21csp-314', '21csr-318', '21cst-313', '21cst-331', '21cst-332', '21csx-322', '21csy-313', '21tdy-301', '21tdy-302', 'a', 'about', 'activ', 'admiss', 'advanc', 'afternoon', 'aid', 'algorithm', 'analysi', 'and', 'ani', 'appli', 'appreci', 'aptitud', 'are', 'avail', 'best', 'book', 'bye', 'calcul', 'calendar', 'campu', 'can', 'care', 'chancellor', 'chandigarh', 'code', 'colleg', 'comput', 'contact', 'cours', 'credit', 'cse', 'date', 'deadlin', 'design', 'detail', 'do', 'elective-i', 'end', 'engin', 'even', 'extracurricular', 'facil', 'farewel', 'fee', 'financi', 'for', 'from', 'fundament', 'give', 'good', 'goodby', 'grade', 'have', 'hello', 'hey', 'hi', 'holiday', 'how', 'i', 'imag', 'import', 'in', 'industri', 'infer', 'inform', 'is', 'it', 'lab', 'lab-1', 'later', 'librari', 'list', 'lot', 'mani', 'mark', 'mba', 'me', 'morn', 'much', 'need', 'number', 'odd', 'of', 'offer', 'offic', 'offici', 'on', 'oper', 'option', 'practic', 'prefer', 'pro', 'pro-chancellor', 'procedur', 'process', 'profession', 'program', 'project-ii', 'r', 'recommend', 'registr', 'requir', 'scheme', 'scholarship', 'see', 'semest', 'sgpa', 'skill', 'soft', 'someon', 'sport', 'start', 'statist', 'student', 'subject', 'summer', 'system', 'take', 'talk', 'tell', 'textbook', 'thank', 'the', 'theori', 'there', 'thi', 'to', 'train', 'tuition', 'undergradu', 'univers', 'use', 'vice-chancellor', 'what', 'when', 'which', 'who', 'will', 'with', 'you']\n"
     ]
    }
   ],
   "source": [
    "all_words = sorted(set(all_words))   # converting it into set will remove the duplicate words.\n",
    "\n",
    "print(all_words)"
   ]
  },
  {
   "cell_type": "code",
   "execution_count": 7,
   "id": "d507deda",
   "metadata": {},
   "outputs": [
    {
     "name": "stdout",
     "output_type": "stream",
     "text": [
      "['ADVANCE PROGRAMMING LAB', 'APTITUDE', 'DESIGN AND ANALYSIS OF ALGORITHMS', 'Fundamentals of Image Processing', 'INDUSTRIAL SUMMER TRAINING', 'OPERATING SYSTEMS', 'PROJECT-II', 'SOFT COMPUTING', 'SOFT SKILLS', 'STATISTICAL INFERENCE USING R', 'admission', 'college_details', 'contact', 'courses', 'fees', 'goodbyes', 'greetings', 'items', 'odd_semester_calendar', 'semester_holidays', 'sgpa_calculator', 'subjects', 'thanks', 'university_officials']\n"
     ]
    }
   ],
   "source": [
    "tags = sorted(set(tags))\n",
    "print(tags)"
   ]
  },
  {
   "cell_type": "code",
   "execution_count": 8,
   "id": "7cb0353f",
   "metadata": {},
   "outputs": [],
   "source": [
    "X_train = []\n",
    "y_train = []\n",
    "\n",
    "for (pattern_sentence, tag) in xy:\n",
    "    bag = bag_of_words(pattern_sentence, all_words)\n",
    "    X_train.append(bag)\n",
    "    \n",
    "    label = tags.index(tag)\n",
    "    y_train.append(label)      #CrossEntropyLoss\n",
    "    \n",
    "X_train = np.array(X_train)\n",
    "y_train = np.array(y_train)"
   ]
  },
  {
   "cell_type": "code",
   "execution_count": 9,
   "id": "3a1cef4d",
   "metadata": {},
   "outputs": [],
   "source": [
    "import torch \n",
    "import torch.nn as nn\n",
    "from torch.utils.data import Dataset, DataLoader"
   ]
  },
  {
   "cell_type": "code",
   "execution_count": 10,
   "id": "f508785d",
   "metadata": {},
   "outputs": [],
   "source": [
    "class ChatDataset(Dataset):\n",
    "    def __init__ (self):\n",
    "        self.n_samples = len(X_train)\n",
    "        self.x_data = X_train\n",
    "        self.y_data = y_train\n",
    "        \n",
    "    def __getitem__(self, index):\n",
    "        return self.x_data[index], self.y_data[index]\n",
    "    \n",
    "    def __len__(self):\n",
    "        return self.n_samples"
   ]
  },
  {
   "cell_type": "code",
   "execution_count": 11,
   "id": "d119c678",
   "metadata": {},
   "outputs": [],
   "source": [
    "# Hyperparameters\n",
    "\n",
    "batch_size = 8\n",
    "hidden_size = 8\n",
    "output_size = len(tags)\n",
    "input_size = len(X_train[0])\n",
    "learning_rate = 0.001\n",
    "num_epochs = 1000\n",
    "\n",
    "\n",
    "dataset = ChatDataset()\n",
    "\n",
    "train_loader = DataLoader(dataset = dataset, batch_size = batch_size, shuffle = True, num_workers = 0)"
   ]
  },
  {
   "cell_type": "code",
   "execution_count": 12,
   "id": "595031a3",
   "metadata": {},
   "outputs": [],
   "source": [
    "device = torch.device('cuda' if torch.cuda.is_available() else 'cpu')"
   ]
  },
  {
   "cell_type": "code",
   "execution_count": 13,
   "id": "fc97b27d",
   "metadata": {},
   "outputs": [],
   "source": [
    "model = NeuralNet(input_size, hidden_size, output_size).to(device)"
   ]
  },
  {
   "cell_type": "code",
   "execution_count": 14,
   "id": "36a199ea",
   "metadata": {},
   "outputs": [],
   "source": [
    "criterion = nn.CrossEntropyLoss()\n",
    "optimizer = torch.optim.Adam(model.parameters(), lr = learning_rate)"
   ]
  },
  {
   "cell_type": "code",
   "execution_count": 15,
   "id": "1d6cc782",
   "metadata": {
    "scrolled": true
   },
   "outputs": [
    {
     "name": "stdout",
     "output_type": "stream",
     "text": [
      "epoch 100/1000, loss=0.5746\n",
      "epoch 200/1000, loss=0.0295\n",
      "epoch 300/1000, loss=0.0001\n",
      "epoch 400/1000, loss=0.0026\n",
      "epoch 500/1000, loss=0.0003\n",
      "epoch 600/1000, loss=0.0005\n",
      "epoch 700/1000, loss=0.0000\n",
      "epoch 800/1000, loss=0.0000\n",
      "epoch 900/1000, loss=0.0000\n",
      "epoch 1000/1000, loss=0.0000\n",
      "final loss, loss=0.0000\n",
      "training complete. File saved to data.pth\n"
     ]
    }
   ],
   "source": [
    "for epoch in range(num_epochs):\n",
    "    for(words, labels) in train_loader:\n",
    "        words = words.to(device)\n",
    "        labels = labels.to(device).to(torch.long)\n",
    "        \n",
    "        outputs = model(words)\n",
    "        loss = criterion(outputs, labels)\n",
    "        \n",
    "        optimizer.zero_grad()\n",
    "        loss.backward()\n",
    "        optimizer.step()\n",
    "        \n",
    "     if (epoch + 1) % 100 == 0:\n",
    "        print(f'epoch {epoch+1}/{num_epochs}, loss={loss.item():.4f}')\n",
    "        \n",
    "print(f'final loss, loss={loss.item():.4f}')\n",
    "\n",
    "data = {\n",
    "    \"model_state\": model.state_dict(),\n",
    "    \"input_size\": input_size,\n",
    "    \"output_size\": output_size,\n",
    "    \"hidden_size\": hidden_size,\n",
    "    \"all_words\": all_words,\n",
    "    \"tags\": tags\n",
    "}\n",
    "\n",
    "FILE =\"data.pth\"\n",
    "torch.save(data, FILE)\n",
    "\n",
    "print(f'training complete. File saved to {FILE}')"
   ]
  },
  {
   "cell_type": "code",
   "execution_count": null,
   "id": "648aee66",
   "metadata": {},
   "outputs": [],
   "source": []
  }
 ],
 "metadata": {
  "kernelspec": {
   "display_name": "Python 3 (ipykernel)",
   "language": "python",
   "name": "python3"
  },
  "language_info": {
   "codemirror_mode": {
    "name": "ipython",
    "version": 3
   },
   "file_extension": ".py",
   "mimetype": "text/x-python",
   "name": "python",
   "nbconvert_exporter": "python",
   "pygments_lexer": "ipython3",
   "version": "3.10.9"
  }
 },
 "nbformat": 4,
 "nbformat_minor": 5
}
